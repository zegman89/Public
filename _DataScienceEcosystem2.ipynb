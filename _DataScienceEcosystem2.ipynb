{
 "cells": [
  {
   "cell_type": "markdown",
   "id": "feb29e58",
   "metadata": {},
   "source": [
    "# Data Science Tools and Ecosystem"
   ]
  },
  {
   "cell_type": "markdown",
   "id": "95b41dd0",
   "metadata": {},
   "source": [
    "In this notebook, Data Science Tools and Ecosystem are summarized."
   ]
  },
  {
   "cell_type": "markdown",
   "id": "420826f6",
   "metadata": {},
   "source": [
    "some of the key takeaways from the course\n",
    "__Objectives:__\n",
    "- List popular language\n",
    "- List data sciece tools\n",
    "- List commonly used libraries"
   ]
  },
  {
   "cell_type": "markdown",
   "id": "3bc55a97",
   "metadata": {},
   "source": [
    "Some of the popular languages that Data Scientists use are:\n",
    "    1. First Python\n",
    "    2. Second R\n",
    "    3. Third SQL"
   ]
  },
  {
   "cell_type": "markdown",
   "id": "9deb2bc2",
   "metadata": {},
   "source": [
    "Some of the commonly used libraries used by Data Scientists include:\n",
    "    1. First Numpy\n",
    "    2. Second Matplotlib\n",
    "    3. Third Scipy"
   ]
  },
  {
   "cell_type": "markdown",
   "id": "1035e482",
   "metadata": {},
   "source": [
    "| Data Science Tools |\n",
    "| -------------|\n",
    "| Jupyter Notebooks  | \n",
    "| Tableau |\n",
    "| Seaborn |"
   ]
  },
  {
   "cell_type": "markdown",
   "id": "3d89bdb9",
   "metadata": {},
   "source": [
    "### Below are a few examples of evaluating arithmetic expressions in Python.\n",
    "5+3"
   ]
  },
  {
   "cell_type": "code",
   "execution_count": null,
   "id": "ee911bbf",
   "metadata": {},
   "outputs": [],
   "source": [
    "This a simple arithmetic expression to mutiply then add integers\n"
   ]
  },
  {
   "cell_type": "code",
   "execution_count": 28,
   "id": "02d032c9",
   "metadata": {},
   "outputs": [
    {
     "data": {
      "text/plain": [
       "17"
      ]
     },
     "execution_count": 28,
     "metadata": {},
     "output_type": "execute_result"
    }
   ],
   "source": [
    "(3*4)+5"
   ]
  },
  {
   "cell_type": "markdown",
   "id": "9b60de04",
   "metadata": {},
   "source": [
    "This will convert 200 minutes to hours by diving by 60\n"
   ]
  },
  {
   "cell_type": "code",
   "execution_count": 29,
   "id": "b6af02f1",
   "metadata": {},
   "outputs": [
    {
     "data": {
      "text/plain": [
       "3.3333333333333335"
      ]
     },
     "execution_count": 29,
     "metadata": {},
     "output_type": "execute_result"
    }
   ],
   "source": [
    "200/60"
   ]
  },
  {
   "cell_type": "markdown",
   "id": "583ba22e",
   "metadata": {},
   "source": [
    "Author\n",
    "Zegkos Manos"
   ]
  },
  {
   "cell_type": "code",
   "execution_count": null,
   "id": "a170bbef",
   "metadata": {},
   "outputs": [],
   "source": []
  }
 ],
 "metadata": {
  "kernelspec": {
   "display_name": "Python 3 (ipykernel)",
   "language": "python",
   "name": "python3"
  },
  "language_info": {
   "codemirror_mode": {
    "name": "ipython",
    "version": 3
   },
   "file_extension": ".py",
   "mimetype": "text/x-python",
   "name": "python",
   "nbconvert_exporter": "python",
   "pygments_lexer": "ipython3",
   "version": "3.11.5"
  }
 },
 "nbformat": 4,
 "nbformat_minor": 5
}
